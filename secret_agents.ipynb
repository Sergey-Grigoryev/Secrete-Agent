{
    "cells": [
        {
            "cell_type": "markdown",
            "metadata": {},
            "source": [
                "# Yoga: Secret Agents\n"
            ]
        },
        {
            "cell_type": "markdown",
            "metadata": {},
            "source": [
                "## Standard Deep Atlas Exercise Set Up\n"
            ]
        },
        {
            "cell_type": "markdown",
            "metadata": {},
            "source": [
                "- [ ] Ensure you are using the coursework Pipenv environment and kernel ([instructions](../SETUP.md))\n",
                "- [ ] Apply the standard Deep Atlas environment setup process by running this cell:\n"
            ]
        },
        {
            "cell_type": "code",
            "execution_count": 3,
            "metadata": {},
            "outputs": [],
            "source": [
                "import sys, os\n",
                "\n",
                "sys.path.insert(0, os.path.join(\"../..\", \"includes\"))\n",
                "import deep_atlas"
            ]
        },
        {
            "cell_type": "markdown",
            "metadata": {},
            "source": [
                "### 🚦 Checkpoint: Start\n",
                "\n",
                "- [ ] Run this cell to record your start time:\n"
            ]
        },
        {
            "cell_type": "code",
            "execution_count": 4,
            "metadata": {},
            "outputs": [
                {
                    "name": "stdout",
                    "output_type": "stream",
                    "text": [
                        "Started at: 2025-04-12T17:43:26.037751\n",
                        "🚀 Success! Get started...\n"
                    ]
                }
            ],
            "source": [
                "deep_atlas.log_start_time()"
            ]
        },
        {
            "cell_type": "markdown",
            "metadata": {},
            "source": [
                "## Project Spec: Secret Agents\n",
                "\n",
                "\"Secret Agents\" is a web-based text game where players solve spy missions and puzzles through a chat interface. An LLM (served online via API or locally via tools like [Ollama](http://ollama.com)) manages all user inputs, invokes relevant tools, and formats the output. The LLM acts as the central controller, orchestrating actions based on user commands and providing context-aware responses.\n",
                "\n",
                "This project is divided into two phases, each focused on building an agent in the app:\n",
                "\n",
                "1. **The Quartermaster**: a tool-using agent\n",
                "2. **The Taskmaster**: a game-manager agent\n",
                "\n",
                "---\n",
                "\n",
                "## Phase 1: Tool-Using Agent Overview\n",
                "\n",
                "> We're going to begin implementing our agent-based application with a single agent that is capable of function-calling / tool usage. This is just one portion of the complete game but emphasizes the most common pattern in agentic systems and a core upgrade to RAG.\n",
                "\n",
                "This part of the application manages an LLM-centric interaction flow that invokes tools before responding to prompts:\n",
                "\n",
                "### Flow\n",
                "\n",
                "1. **User Input**: Message sent via chat interface.\n",
                "2. **LLM Processing**: LLM determines required actions and tool(s).\n",
                "3. **Tool Invocation**: Flask executes tools as requested.\n",
                "4. **Tool Result Handling**: Results are sent back to the LLM.\n",
                "5. **LLM Response**: Final response is generated and returned to the user.\n",
                "\n",
                "Tool Examples:\n",
                "\n",
                "- **Weather Gadget**: Retrieves real-time weather data.\n",
                "- **Decryption Gadget**: Solves puzzles like Caesar ciphers.\n",
                "- **Additional Gadgets**: Time zone converter, translator.\n",
                "\n",
                "### Application Architecture\n",
                "\n",
                "**Frontend / UI**:\n",
                "\n",
                "- **HTML/CSS**: Provides the web-based chat interface.\n",
                "- **JavaScript**: Uses Socket.IO for real-time communication between the frontend and Flask backend.\n",
                "\n",
                "**Backend (Flask application)**:\n",
                "\n",
                "- **Flask**: Handles routing, WebSocket communication, and integration with the LLM and gadgets.\n",
                "- **LLM Integration**: User messages are sent to the LLM, which processes the input, determines tool usage, and returns instructions to Flask.\n",
                "- **Tool Execution**: Tools are executed based on LLM requests, with results returned for response generation.\n",
                "\n",
                "**Directory Structure**:\n",
                "\n",
                "```txt\n",
                "src/\n",
                "├── app.py              # Main Flask application\n",
                "├── mission_log.json    # Log of interactions\n",
                "├── requirements.txt    # Dependencies\n",
                "├── templates/          # HTML templates (chat interface)\n",
                "├── gadgets/            # Functions that call APIs or perform non-LLM tasks\n",
                "├── utils/              # Utility functions \n",
                "└── llm/                # LLM interaction logic\n",
                "```\n",
                "\n",
                "**Core Components**:\n",
                "\n",
                "- **LLM Interface**\n",
                "\t- Purpose: Manages communication with the LLM, including sending user messages and receiving instructions.\n",
                "\t- Implementation: Uses HTTP requests for communication, with a structured protocol for tool requests.\n",
                "- **Tool Executor**\n",
                "\t- Purpose: Executes tools as instructed by the LLM.\n",
                "\t- Implementation: Maps tool names to functions and handles invocation.\n",
                "- **Flask App**\n",
                "\t- Implementation: Receives user messages, forwards them to the LLM, executes tools if needed, and delivers responses to the user.\n",
                "\n",
                "### Developer Notes\n",
                "\n",
                "- **LLM Configuration**: Ensure LLM understands the structured response format.\n",
                "- **Error Handling**: Manage malformed responses or failed tool executions.\n",
                "- **Security**: Validate inputs to prevent unauthorized actions.\n",
                "- **Testing**: Test LLM and Flask interactions with representative inputs.\n",
                "\n",
                "### Phase 1 Extra Credit\n",
                "\n",
                "- **Expand Gadget Library**: Add tools like translators or additional puzzles.\n",
                "- **LLM Fine-Tuning**: Improve decision-making and response quality.\n",
                "- **User Feedback**: Add rating capability to the UI (e.g. a thumbs-up / thumbs-down button after every LLM response. Store an interaction log and update a rating field based on the user input.\n",
                "\n",
                "--- \n",
                "\n",
                "## Phase 2: Game Manager Overview\n",
                "\n",
                "This phase focuses on managing the game flow and context using an LLM that tracks player progress and mission status.\n",
                "\n",
                "When a player starts a new session (using a \"new game\" button in the UI), the application creates a mission for the player to complete. The mission involves actions that involve using the tools in the game:\n",
                "\n",
                "1. **Traveling to a Location**: The LLM selects a destination for the player.\n",
                "2. **Packing a Disguise**: Based on the weather at the chosen location, the player must pack an appropriate disguise.\n",
                "3. **Cracking a Code**: The LLM generates a Caesar cipher that the player must decode to steal an important object.\n",
                "4. **Mission Completion**: The player reports back to mark the mission as complete, at which point the game session ends.\n",
                "\n",
                "### Flow\n",
                "\n",
                "1. **User Interaction**: Player interacts with the game through the chat interface, starting with a new mission.\n",
                "2. **LLM State Management**: LLM uses stored game state to track the player's progress through each mission phase.\n",
                "3. **Response Generation**: LLM formulates responses based on the current mission context, providing briefings, hints, and feedback for each task.\n",
                "4. **Context Update**: LLM updates mission progress and player interactions in the database or JSON files.\n",
                "\n",
                "### Core Components:\n",
                "\n",
                "- **Game State Manager (`utils/game_state.py`)**\n",
                "\t- Purpose: Tracks player progress and game state.\n",
                "\t- Implementation: Stores and retrieves mission data, ensuring continuity in player experience.\n",
                "\n",
                "### Developer Notes\n",
                "\n",
                "- **LLM Configuration**: Ensure the LLM can track and recall game state.\n",
                "- **Error Handling**: Account for incomplete or inconsistent game states.\n",
                "- **Security**: Validate all player inputs and sanitize data before updating game state.\n",
                "- **Testing**: Test game scenarios to ensure smooth progression and context tracking.\n",
                "\n",
                "### Phase 2 Extra Credit\n",
                "\n",
                "- **Guardrails**: Add logic to keep the player on mission and disallow the LLM from answering prompts not related to completing the current mission.\n",
                "\n",
                "## Extra Credit\n",
                "\n",
                "- **Generated UI** Explore [ChatGPT's structured output feature](https://platform.openai.com/docs/guides/structured-outputs/ui-generation) and how it can construct custom UI that can be appended to the page. Upgrade the game from purely conversation to interactive with buttons that allow the user to perform actions.  "
            ]
        },
        {
            "cell_type": "markdown",
            "metadata": {},
            "source": [
                "### 🚦 Checkpoint: Stop\n",
                "\n",
                "- [ ] Uncomment this code\n",
                "- [ ] Complete the feedback form\n",
                "- [ ] Run the cell to log your responses and record your stop time:\n"
            ]
        },
        {
            "cell_type": "code",
            "execution_count": null,
            "metadata": {},
            "outputs": [],
            "source": [
                "# deep_atlas.log_feedback(\n",
                "#     {\n",
                "#         # How long were you actively focused on this section? (HH:MM)\n",
                "#         \"active_time\": FILL_THIS_IN,\n",
                "#         # Did you feel finished with this section (Yes/No):\n",
                "#         \"finished\": FILL_THIS_IN,\n",
                "#         # How much did you enjoy this section? (1–5)\n",
                "#         \"enjoyment\": FILL_THIS_IN,\n",
                "#         # How useful was this section? (1–5)\n",
                "#         \"usefulness\": FILL_THIS_IN,\n",
                "#         # Did you skip any steps?\n",
                "#         \"skipped_steps\": [FILL_THIS_IN],\n",
                "#         # Any obvious opportunities for improvement?\n",
                "#         \"suggestions\": [FILL_THIS_IN],\n",
                "#     }\n",
                "# )\n",
                "# deep_atlas.log_stop_time()"
            ]
        },
        {
            "cell_type": "markdown",
            "metadata": {},
            "source": [
                "## You did it!\n"
            ]
        }
    ],
    "metadata": {
        "kernelspec": {
            "display_name": "mlin-2025-03-28-coursework-7adJdTYd",
            "language": "python",
            "name": "python3"
        },
        "language_info": {
            "codemirror_mode": {
                "name": "ipython",
                "version": 3
            },
            "file_extension": ".py",
            "mimetype": "text/x-python",
            "name": "python",
            "nbconvert_exporter": "python",
            "pygments_lexer": "ipython3",
            "version": "3.11.9"
        }
    },
    "nbformat": 4,
    "nbformat_minor": 2
}
